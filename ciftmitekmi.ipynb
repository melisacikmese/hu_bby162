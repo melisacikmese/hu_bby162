{
  "nbformat": 4,
  "nbformat_minor": 0,
  "metadata": {
    "colab": {
      "provenance": [],
      "authorship_tag": "ABX9TyP85bln9I+uhqun6Khydtz8",
      "include_colab_link": true
    },
    "kernelspec": {
      "name": "python3",
      "display_name": "Python 3"
    },
    "language_info": {
      "name": "python"
    }
  },
  "cells": [
    {
      "cell_type": "markdown",
      "metadata": {
        "id": "view-in-github",
        "colab_type": "text"
      },
      "source": [
        "<a href=\"https://colab.research.google.com/github/melisacikmese/hu_bby162/blob/main/ciftmitekmi.ipynb\" target=\"_parent\"><img src=\"https://colab.research.google.com/assets/colab-badge.svg\" alt=\"Open In Colab\"/></a>"
      ]
    },
    {
      "cell_type": "markdown",
      "source": [
        "cift mi tek mi"
      ],
      "metadata": {
        "id": "whYGe1-FSpc0"
      }
    },
    {
      "cell_type": "code",
      "execution_count": null,
      "metadata": {
        "id": "yxXPGP3SF032"
      },
      "outputs": [],
      "source": [
        "sayi = input('Sayı :')\n",
        "if int(sayi)%2==0:\n",
        "      print(\"Sayı Çift\")\n",
        "else:\n",
        "      print(\"Sayı Tek\")\n",
        "\n"
      ]
    }
  ]
}