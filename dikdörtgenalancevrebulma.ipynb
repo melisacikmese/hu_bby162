{
  "nbformat": 4,
  "nbformat_minor": 0,
  "metadata": {
    "colab": {
      "provenance": [],
      "authorship_tag": "ABX9TyNT1JsCgu1fVpDCowBxac07",
      "include_colab_link": true
    },
    "kernelspec": {
      "name": "python3",
      "display_name": "Python 3"
    },
    "language_info": {
      "name": "python"
    }
  },
  "cells": [
    {
      "cell_type": "markdown",
      "metadata": {
        "id": "view-in-github",
        "colab_type": "text"
      },
      "source": [
        "<a href=\"https://colab.research.google.com/github/melisacikmese/hu_bby162/blob/main/dikd%C3%B6rtgenalancevrebulma.ipynb\" target=\"_parent\"><img src=\"https://colab.research.google.com/assets/colab-badge.svg\" alt=\"Open In Colab\"/></a>"
      ]
    },
    {
      "cell_type": "markdown",
      "source": [],
      "metadata": {
        "id": "whYGe1-FSpc0"
      }
    },
    {
      "cell_type": "code",
      "execution_count": null,
      "metadata": {
        "id": "yxXPGP3SF032"
      },
      "outputs": [],
      "source": [
        "kisa=input('Kısa Kenar :')\n",
        "uzun=input('Uzun Kenar :')\n",
        "alan=int(kisa)*int(uzun)\n",
        "cevre=2*(int(kisa)+int(uzun))\n",
        "print(\"Alan : {0}\".format(alan))\n",
        "print(\"Çevre : {0}\".format(cevre))\n",
        "\n",
        "\n",
        "\n"
      ]
    }
  ]
}