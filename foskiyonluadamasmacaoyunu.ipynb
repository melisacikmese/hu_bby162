{
  "nbformat": 4,
  "nbformat_minor": 0,
  "metadata": {
    "colab": {
      "provenance": [],
      "authorship_tag": "ABX9TyMtDgcODFZCZLeKOIk17Bry",
      "include_colab_link": true
    },
    "kernelspec": {
      "name": "python3",
      "display_name": "Python 3"
    },
    "language_info": {
      "name": "python"
    }
  },
  "cells": [
    {
      "cell_type": "markdown",
      "metadata": {
        "id": "view-in-github",
        "colab_type": "text"
      },
      "source": [
        "<a href=\"https://colab.research.google.com/github/melisacikmese/hu_bby162/blob/main/foskiyonluadamasmacaoyunu.ipynb\" target=\"_parent\"><img src=\"https://colab.research.google.com/assets/colab-badge.svg\" alt=\"Open In Colab\"/></a>"
      ]
    },
    {
      "cell_type": "code",
      "execution_count": null,
      "metadata": {
        "colab": {
          "base_uri": "https://localhost:8080/"
        },
        "id": "xfcQKZf6GsgL",
        "outputId": "89a352de-6b0e-4e83-ac93-72f2703487a0"
      },
      "outputs": [
        {
          "output_type": "stream",
          "name": "stdout",
          "text": [
            "Adam Asmaca oyununa hoş geldiniz!\n",
            "Zorluk seviyesini seçin: 1-Kolay (7can), 2-Orta (5can), 3-Zor (3can) :3\n",
            "Kelime: * * * * * * * * \n",
            "Kalan Can: 3\n",
            "Bir harf tahmin edin: a\n",
            "Tebrikler!\n",
            "Kelime: * * * a * * * * \n",
            "Kalan Can: 3\n",
            "Bir harf tahmin edin: d\n",
            "yanlış tahmin.\n",
            "Kelime: * * * a * * * * \n",
            "Kalan Can: 2\n",
            "Bir harf tahmin edin: e\n",
            "yanlış tahmin.\n",
            "Kelime: * * * a * * * * \n",
            "Kalan Can: 1\n",
            "Bir harf tahmin edin: r\n",
            "Tebrikler!\n",
            "Kelime: * r * a * * * * \n",
            "Kalan Can: 1\n",
            "Bir harf tahmin edin: a\n",
            "Bu harfi tahmin ettiniz!\n",
            "Kelime: * r * a * * * * \n",
            "Kalan Can: 1\n",
            "Bir harf tahmin edin: g\n",
            "yanlış tahmin.\n",
            "Kelimeyi yalış tahmin ettiniz. Doğru kelime:  triatlon\n",
            "Tekrar oynamak ister misiniz?: hayır\n",
            "Oyundan çıkış yapılıdı\n"
          ]
        }
      ],
      "source": [
        "import random\n",
        "\n",
        "def secilenkelime():\n",
        "    kelimeler = [\"bisiklet\", \"triatlon\", \"yüzme\", \"koşu\", \"kütüphane\", \"algoritma\", \"python\", \"programlama\"]\n",
        "    return random.choice(kelimeler)\n",
        "\n",
        "def adamasmaca():\n",
        "    print(\"Adam Asmaca oyununa hoş geldiniz!\")\n",
        "\n",
        "    while True:\n",
        "        secim = input(\"Zorluk seviyesini seçin: 1-Kolay (7can), 2-Orta (5can), 3-Zor (3can) :\")\n",
        "\n",
        "        if secim == \"1\":\n",
        "            adamcan = 7\n",
        "            break\n",
        "        elif secim == \"2\":\n",
        "            adamcan = 5\n",
        "            break\n",
        "        elif secim == \"3\":\n",
        "            adamcan = 3\n",
        "            break\n",
        "        else:\n",
        "            print(\"Lütfen 1, 2, 3 seçeneklerinden birini giriniz.\")\n",
        "\n",
        "    kelime = secilenkelime()\n",
        "    girilenharfler = []\n",
        "    dogruharfler = []\n",
        "\n",
        "\n",
        "    while adamcan > 0:\n",
        "        girilen = \"\"\n",
        "        for harf in kelime:\n",
        "            if harf in dogruharfler:\n",
        "                girilen += harf + \" \"\n",
        "            else:\n",
        "                girilen += \"* \"\n",
        "\n",
        "        print(\"Kelime:\", girilen)\n",
        "        print(\"Kalan Can:\", adamcan)\n",
        "\n",
        "        tahmin = input(\"Bir harf tahmin edin: \").lower()\n",
        "\n",
        "        if tahmin in girilenharfler:\n",
        "            print(\"Bu harfi tahmin ettiniz!\")\n",
        "            continue\n",
        "\n",
        "        girilenharfler.append(tahmin)\n",
        "\n",
        "        if tahmin in kelime:\n",
        "            print(\"Tebrikler!\")\n",
        "            dogruharfler.append(tahmin)\n",
        "\n",
        "            tamamlandi = True\n",
        "            for harf in kelime:\n",
        "                if harf not in dogruharfler:\n",
        "                    tamamlandi = False\n",
        "                    break\n",
        "\n",
        "            if tamamlandi:\n",
        "                print(\"Tebrikler! doğru tahmin ettiniz: \", kelime)\n",
        "                break\n",
        "        else:\n",
        "            print(\"yanlış tahmin.\")\n",
        "            adamcan -= 1\n",
        "\n",
        "        if adamcan == 0:\n",
        "            print(\"Kelimeyi yalış tahmin ettiniz. Doğru kelime: \", kelime)\n",
        "\n",
        "    while True:\n",
        "        tekrar = input(\"Tekrar oynamak ister misiniz?: \").lower()\n",
        "\n",
        "        if tekrar == \"evet\":\n",
        "            adamasmaca()\n",
        "            break\n",
        "        elif tekrar == \"hayır\":\n",
        "            print(\"Oyundan çıkış yapılıdı\")\n",
        "            break\n",
        "        else:\n",
        "            print(\"Lütfen Evet veya Hayır dan birini seçiniz.\")\n",
        "\n",
        "adamasmaca()"
      ]
    }
  ]
}