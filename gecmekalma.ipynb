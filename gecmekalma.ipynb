{
  "nbformat": 4,
  "nbformat_minor": 0,
  "metadata": {
    "colab": {
      "provenance": [],
      "name": "gecmekalma.ipynb",
      "authorship_tag": "ABX9TyNXJZfFl+bFzIAYMQvA4W57",
      "include_colab_link": true
    },
    "kernelspec": {
      "name": "python3",
      "display_name": "Python 3"
    },
    "language_info": {
      "name": "python"
    }
  },
  "cells": [
    {
      "cell_type": "markdown",
      "metadata": {
        "id": "view-in-github",
        "colab_type": "text"
      },
      "source": [
        "<a href=\"https://colab.research.google.com/github/melisacikmese/hu_bby162/blob/main/gecmekalma.ipynb\" target=\"_parent\"><img src=\"https://colab.research.google.com/assets/colab-badge.svg\" alt=\"Open In Colab\"/></a>"
      ]
    },
    {
      "cell_type": "markdown",
      "source": [
        "vize ve final notu ortalaması hesaplayıp geçip kalma durumunu gösteren python"
      ],
      "metadata": {
        "id": "whYGe1-FSpc0"
      }
    },
    {
      "cell_type": "code",
      "execution_count": null,
      "metadata": {
        "colab": {
          "base_uri": "https://localhost:8080/"
        },
        "id": "yxXPGP3SF032",
        "outputId": "0fdd2c2c-28c6-4d9e-c145-b55ac2e16f55"
      },
      "outputs": [
        {
          "output_type": "stream",
          "name": "stdout",
          "text": [
            "Vize Notunuz : 50\n",
            "Final Notunuz : 77\n",
            "Ortalama :68.9 \n",
            "geçtiniz\n"
          ]
        }
      ],
      "source": [
        "\n",
        "vize = input('Vize Notunuz : ')\n",
        "final = input('Final Notunuz : ')\n",
        "ortalama=(float(vize)*0.3)+(float(final)*0.7)\n",
        "print(\"Ortalama :{0} \".format(ortalama))\n",
        "if int(ortalama)>=50:\n",
        "  print(\"geçtiniz\")\n",
        "else:\n",
        "  print(\"kaldınız\")\n"
      ]
    }
  ]
}