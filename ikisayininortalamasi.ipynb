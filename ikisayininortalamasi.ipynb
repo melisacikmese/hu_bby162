{
  "nbformat": 4,
  "nbformat_minor": 0,
  "metadata": {
    "colab": {
      "provenance": [],
      "authorship_tag": "ABX9TyNu+XYfKfYCnvKF8TzbHkOT",
      "include_colab_link": true
    },
    "kernelspec": {
      "name": "python3",
      "display_name": "Python 3"
    },
    "language_info": {
      "name": "python"
    }
  },
  "cells": [
    {
      "cell_type": "markdown",
      "metadata": {
        "id": "view-in-github",
        "colab_type": "text"
      },
      "source": [
        "<a href=\"https://colab.research.google.com/github/melisacikmese/hu_bby162/blob/main/ikisayininortalamasi.ipynb\" target=\"_parent\"><img src=\"https://colab.research.google.com/assets/colab-badge.svg\" alt=\"Open In Colab\"/></a>"
      ]
    },
    {
      "cell_type": "markdown",
      "source": [
        "iki sayının ortalamasını bulma"
      ],
      "metadata": {
        "id": "oHQ5L4op5jZk"
      }
    },
    {
      "cell_type": "code",
      "execution_count": null,
      "metadata": {
        "id": "UnVS8TGY5bCE"
      },
      "outputs": [],
      "source": [
        "sayi1 = input(\"1. Sayı : \")\n",
        "sayi2 = input(\"1. Sayı : \")\n",
        "ortalama = (int(sayi1)+int(sayi2))/2\n",
        "print(\"Ortalama :{0} \".format(ortalama))"
      ]
    }
  ]
}