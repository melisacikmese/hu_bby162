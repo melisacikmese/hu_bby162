{
  "nbformat": 4,
  "nbformat_minor": 0,
  "metadata": {
    "colab": {
      "provenance": [],
      "authorship_tag": "ABX9TyN7TIFY9Mfi2IqL0DiAaSi+",
      "include_colab_link": true
    },
    "kernelspec": {
      "name": "python3",
      "display_name": "Python 3"
    },
    "language_info": {
      "name": "python"
    }
  },
  "cells": [
    {
      "cell_type": "markdown",
      "metadata": {
        "id": "view-in-github",
        "colab_type": "text"
      },
      "source": [
        "<a href=\"https://colab.research.google.com/github/melisacikmese/hu_bby162/blob/main/ikisayitopama.ipynb\" target=\"_parent\"><img src=\"https://colab.research.google.com/assets/colab-badge.svg\" alt=\"Open In Colab\"/></a>"
      ]
    },
    {
      "cell_type": "markdown",
      "source": [
        "Girilen iki sayıyı toplayan python örneği"
      ],
      "metadata": {
        "id": "VbVx0eaD34bU"
      }
    },
    {
      "cell_type": "code",
      "source": [
        "sayi1 = input(\"1.sayı:\")\n",
        "sayi2 = input(\"2.sayı:\")\n",
        "toplam = float(sayi1)+float(sayi2)\n",
        "print(\"toplam :{0}\".format(toplam))"
      ],
      "metadata": {
        "id": "xRlU3yOP4ALb"
      },
      "execution_count": null,
      "outputs": []
    }
  ]
}