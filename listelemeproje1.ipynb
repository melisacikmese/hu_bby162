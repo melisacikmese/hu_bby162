{
  "nbformat": 4,
  "nbformat_minor": 0,
  "metadata": {
    "colab": {
      "provenance": [],
      "name": "listelemeproje1.ipynb",
      "authorship_tag": "ABX9TyMkIridMKqY+8qrs/8LRSCo",
      "include_colab_link": true
    },
    "kernelspec": {
      "name": "python3",
      "display_name": "Python 3"
    },
    "language_info": {
      "name": "python"
    }
  },
  "cells": [
    {
      "cell_type": "markdown",
      "metadata": {
        "id": "view-in-github",
        "colab_type": "text"
      },
      "source": [
        "<a href=\"https://colab.research.google.com/github/melisacikmese/hu_bby162/blob/main/listelemeproje1.ipynb\" target=\"_parent\"><img src=\"https://colab.research.google.com/assets/colab-badge.svg\" alt=\"Open In Colab\"/></a>"
      ]
    },
    {
      "cell_type": "code",
      "execution_count": null,
      "metadata": {
        "colab": {
          "base_uri": "https://localhost:8080/",
          "height": 445
        },
        "id": "cTPJkze3V1Ik",
        "outputId": "74941697-3435-4d11-a671-940a06ad87dd"
      },
      "outputs": [
        {
          "output_type": "stream",
          "name": "stdout",
          "text": [
            "{'Açısal Çap': 'Ay ve Güneş gibi gökcisimlerinin gerçek çap uçlarını gözlemciye birleştiren iki doğru arasındaki açı.', 'Açısal uzaklık': 'İki cismi gözlemciye birleştiren doğrular arasındaki açı.', 'Angström': 'ışığın dalga boyu ölçümünde kullanılan uzunluk birimi.', 'Astronom': 'Astronomi bilimi ile ilgilenen bilim insanı.', 'Eşlek': 'Ekvator (bk. Yer eşleği, gök eşleği).', 'Gök eşleği': 'Yer eşleğinin gök küre ile ara kesiti.', 'Güneş saati': 'Bir çubuğun gölgesiyle zaman belirleyen basit saat.', 'Işık yılı': 'Işığın bir yılda aldığı yol.', 'Kara cisim': 'Üzerine düşen bütün ışığı hiç yansıtmadan olduğu gibi soğuran sanal cisim.', 'Kozmolog': 'Kozmoloji bilimiyle uğraşan kişi'}\n",
            "{'Açısal Çap': 'Ay ve Güneş gibi gökcisimlerinin gerçek çap uçlarını gözlemciye birleştiren iki doğru arasındaki açı.', 'Açısal uzaklık': 'İki cismi gözlemciye birleştiren doğrular arasındaki açı.', 'Angström': 'ışığın dalga boyu ölçümünde kullanılan uzunluk birimi.', 'Astronom': 'Astronomi bilimi ile ilgilenen bilim insanı.', 'Eşlek': 'Ekvator (bk. Yer eşleği, gök eşleği).', 'Gök eşleği': 'Yer eşleğinin gök küre ile ara kesiti.', 'Güneş saati': 'Bir çubuğun gölgesiyle zaman belirleyen basit saat.', 'Işık yılı': 'Işığın bir yılda aldığı yol.', 'Kara cisim': 'Üzerine düşen bütün ışığı hiç yansıtmadan olduğu gibi soğuran sanal cisim.', 'Kozmolog': 'Kozmoloji bilimiyle uğraşan kişi', 'Kozmoloji': 'Evrenin yapısını ve gelişimini inceleyen bilim dalı.'}\n",
            "{'Açısal uzaklık': 'İki cismi gözlemciye birleştiren doğrular arasındaki açı.', 'Angström': 'ışığın dalga boyu ölçümünde kullanılan uzunluk birimi.', 'Astronom': 'Astronomi bilimi ile ilgilenen bilim insanı.', 'Eşlek': 'Ekvator (bk. Yer eşleği, gök eşleği).', 'Gök eşleği': 'Yer eşleğinin gök küre ile ara kesiti.', 'Güneş saati': 'Bir çubuğun gölgesiyle zaman belirleyen basit saat.', 'Işık yılı': 'Işığın bir yılda aldığı yol.', 'Kara cisim': 'Üzerine düşen bütün ışığı hiç yansıtmadan olduğu gibi soğuran sanal cisim.', 'Kozmolog': 'Kozmoloji bilimiyle uğraşan kişi', 'Kozmoloji': 'Evrenin yapısını ve gelişimini inceleyen bilim dalı.'}\n",
            "{'Açısal uzaklık': 'İki cismi gözlemciye birleştiren doğrular arasındaki açı.', 'Angström': 'ışığın dalga boyu ölçümünde kullanılan uzunluk birimi.', 'Astronom': 'Astronomi bilimi ile ilgilenen bilim insanı.', 'Eşlek': 'Ekvator (bk. Yer eşleği, gök eşleği).', 'Gök eşleği': 'Yer eşleğinin gök küre ile ara kesiti.', 'Güneş saati': 'Bir çubuğun gölgesiyle zaman belirleyen basit saat.', 'Işık yılı': 'Işığın bir yılda aldığı yol.', 'Kara cisim': 'Üzerine düşen bütün ışığı hiç yansıtmadan olduğu gibi soğuran sanal cisim.', 'Kozmolog': 'Kozmoloji bilimiyle uğraşan kişi', 'Kozmoloji': 'Evrenin yapısını ve gelişimini inceleyen bilim dalı.'}\n"
          ]
        },
        {
          "output_type": "error",
          "ename": "KeyboardInterrupt",
          "evalue": "Interrupted by user",
          "traceback": [
            "\u001b[0;31m---------------------------------------------------------------------------\u001b[0m",
            "\u001b[0;31mKeyboardInterrupt\u001b[0m                         Traceback (most recent call last)",
            "\u001b[0;32m<ipython-input-18-cc2b0aec1039>\u001b[0m in \u001b[0;36m<cell line: 21>\u001b[0;34m()\u001b[0m\n\u001b[1;32m     19\u001b[0m \u001b[0;34m\u001b[0m\u001b[0m\n\u001b[1;32m     20\u001b[0m \u001b[0mprint\u001b[0m\u001b[0;34m(\u001b[0m\u001b[0mastronomiterimlerisozlugu\u001b[0m\u001b[0;34m)\u001b[0m\u001b[0;34m\u001b[0m\u001b[0;34m\u001b[0m\u001b[0m\n\u001b[0;32m---> 21\u001b[0;31m \u001b[0mguncellenecek\u001b[0m \u001b[0;34m=\u001b[0m \u001b[0mint\u001b[0m\u001b[0;34m(\u001b[0m\u001b[0minput\u001b[0m\u001b[0;34m(\u001b[0m\u001b[0;34m\"Güncellemek istediğiniz sözcüğün sıra numarasını giriniz: \"\u001b[0m\u001b[0;34m)\u001b[0m\u001b[0;34m)\u001b[0m\u001b[0;34m\u001b[0m\u001b[0;34m\u001b[0m\u001b[0m\n\u001b[0m\u001b[1;32m     22\u001b[0m \u001b[0mprint\u001b[0m\u001b[0;34m(\u001b[0m\u001b[0;34m\"Güncellenecek sözcük: \"\u001b[0m \u001b[0;34m+\u001b[0m \u001b[0mastronomiterimlerisozlugu\u001b[0m\u001b[0;34m[\u001b[0m\u001b[0mguncellenecek\u001b[0m\u001b[0;34m-\u001b[0m\u001b[0;36m1\u001b[0m\u001b[0;34m]\u001b[0m\u001b[0;34m)\u001b[0m\u001b[0;34m\u001b[0m\u001b[0;34m\u001b[0m\u001b[0m\n\u001b[1;32m     23\u001b[0m \u001b[0mguncelIcerik\u001b[0m \u001b[0;34m=\u001b[0m \u001b[0minput\u001b[0m\u001b[0;34m(\u001b[0m\u001b[0;34m\"Güncel sözcük bilgisini giriniz: \"\u001b[0m\u001b[0;34m)\u001b[0m\u001b[0;34m\u001b[0m\u001b[0;34m\u001b[0m\u001b[0m\n",
            "\u001b[0;32m/usr/local/lib/python3.10/dist-packages/ipykernel/kernelbase.py\u001b[0m in \u001b[0;36mraw_input\u001b[0;34m(self, prompt)\u001b[0m\n\u001b[1;32m    849\u001b[0m                 \u001b[0;34m\"raw_input was called, but this frontend does not support input requests.\"\u001b[0m\u001b[0;34m\u001b[0m\u001b[0;34m\u001b[0m\u001b[0m\n\u001b[1;32m    850\u001b[0m             )\n\u001b[0;32m--> 851\u001b[0;31m         return self._input_request(str(prompt),\n\u001b[0m\u001b[1;32m    852\u001b[0m             \u001b[0mself\u001b[0m\u001b[0;34m.\u001b[0m\u001b[0m_parent_ident\u001b[0m\u001b[0;34m,\u001b[0m\u001b[0;34m\u001b[0m\u001b[0;34m\u001b[0m\u001b[0m\n\u001b[1;32m    853\u001b[0m             \u001b[0mself\u001b[0m\u001b[0;34m.\u001b[0m\u001b[0m_parent_header\u001b[0m\u001b[0;34m,\u001b[0m\u001b[0;34m\u001b[0m\u001b[0;34m\u001b[0m\u001b[0m\n",
            "\u001b[0;32m/usr/local/lib/python3.10/dist-packages/ipykernel/kernelbase.py\u001b[0m in \u001b[0;36m_input_request\u001b[0;34m(self, prompt, ident, parent, password)\u001b[0m\n\u001b[1;32m    893\u001b[0m             \u001b[0;32mexcept\u001b[0m \u001b[0mKeyboardInterrupt\u001b[0m\u001b[0;34m:\u001b[0m\u001b[0;34m\u001b[0m\u001b[0;34m\u001b[0m\u001b[0m\n\u001b[1;32m    894\u001b[0m                 \u001b[0;31m# re-raise KeyboardInterrupt, to truncate traceback\u001b[0m\u001b[0;34m\u001b[0m\u001b[0;34m\u001b[0m\u001b[0m\n\u001b[0;32m--> 895\u001b[0;31m                 \u001b[0;32mraise\u001b[0m \u001b[0mKeyboardInterrupt\u001b[0m\u001b[0;34m(\u001b[0m\u001b[0;34m\"Interrupted by user\"\u001b[0m\u001b[0;34m)\u001b[0m \u001b[0;32mfrom\u001b[0m \u001b[0;32mNone\u001b[0m\u001b[0;34m\u001b[0m\u001b[0;34m\u001b[0m\u001b[0m\n\u001b[0m\u001b[1;32m    896\u001b[0m             \u001b[0;32mexcept\u001b[0m \u001b[0mException\u001b[0m \u001b[0;32mas\u001b[0m \u001b[0me\u001b[0m\u001b[0;34m:\u001b[0m\u001b[0;34m\u001b[0m\u001b[0;34m\u001b[0m\u001b[0m\n\u001b[1;32m    897\u001b[0m                 \u001b[0mself\u001b[0m\u001b[0;34m.\u001b[0m\u001b[0mlog\u001b[0m\u001b[0;34m.\u001b[0m\u001b[0mwarning\u001b[0m\u001b[0;34m(\u001b[0m\u001b[0;34m\"Invalid Message:\"\u001b[0m\u001b[0;34m,\u001b[0m \u001b[0mexc_info\u001b[0m\u001b[0;34m=\u001b[0m\u001b[0;32mTrue\u001b[0m\u001b[0;34m)\u001b[0m\u001b[0;34m\u001b[0m\u001b[0;34m\u001b[0m\u001b[0m\n",
            "\u001b[0;31mKeyboardInterrupt\u001b[0m: Interrupted by user"
          ]
        }
      ],
      "source": [
        "astronomiterimlerisozlugu = {\"Açısal Çap\" : \"Ay ve Güneş gibi gökcisimlerinin gerçek çap uçlarını gözlemciye birleştiren iki doğru arasındaki açı.\",\n",
        "                            \"Açısal uzaklık\" : \"İki cismi gözlemciye birleştiren doğrular arasındaki açı.\",\n",
        "                            \"Angström\" : \"ışığın dalga boyu ölçümünde kullanılan uzunluk birimi.\",\n",
        "                            \"Astronom\" : \"Astronomi bilimi ile ilgilenen bilim insanı.\",\n",
        "                            \"Eşlek\" : \"Ekvator (bk. Yer eşleği, gök eşleği).\",\n",
        "                            \"Gök eşleği\" : \"Yer eşleğinin gök küre ile ara kesiti.\",\n",
        "                            \"Güneş saati\" : \"Bir çubuğun gölgesiyle zaman belirleyen basit saat.\",\n",
        "                            \"Işık yılı\" : \"Işığın bir yılda aldığı yol.\",\n",
        "                            \"Kara cisim\" : \"Üzerine düşen bütün ışığı hiç yansıtmadan olduğu gibi soğuran sanal cisim.\",\n",
        "                            \"Kozmolog\" : \"Kozmoloji bilimiyle uğraşan kişi\" }\n",
        "print(astronomiterimlerisozlugu)\n",
        "\n",
        "\n",
        "astronomiterimlerisozlugu[\"Kozmoloji\"] = \"Evrenin yapısını ve gelişimini inceleyen bilim dalı.\"\n",
        "print(astronomiterimlerisozlugu)\n",
        "\n",
        "del astronomiterimlerisozlugu [\"Açısal Çap\"]\n",
        "print(astronomiterimlerisozlugu)\n",
        "\n",
        "print(astronomiterimlerisozlugu)\n",
        "guncellenecek = int(input(\"Güncellemek istediğiniz sözcüğün sıra numarasını giriniz: \"))\n",
        "print(\"Güncellenecek sözcük: \" + astronomiterimlerisozlugu[guncellenecek-1])\n",
        "guncelIcerik = input(\"Güncel sözcük bilgisini giriniz: \")\n",
        "astronomiterimlerisozlugu[guncellenecek-1] = guncelIcerik\n",
        "print(astronomiterimlerisozlugu)"
      ]
    }
  ]
}