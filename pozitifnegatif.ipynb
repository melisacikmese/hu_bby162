{
  "nbformat": 4,
  "nbformat_minor": 0,
  "metadata": {
    "colab": {
      "provenance": [],
      "authorship_tag": "ABX9TyM0RXEcJTRayZWbsNqp4Pbq",
      "include_colab_link": true
    },
    "kernelspec": {
      "name": "python3",
      "display_name": "Python 3"
    },
    "language_info": {
      "name": "python"
    }
  },
  "cells": [
    {
      "cell_type": "markdown",
      "metadata": {
        "id": "view-in-github",
        "colab_type": "text"
      },
      "source": [
        "<a href=\"https://colab.research.google.com/github/melisacikmese/hu_bby162/blob/main/pozitifnegatif.ipynb\" target=\"_parent\"><img src=\"https://colab.research.google.com/assets/colab-badge.svg\" alt=\"Open In Colab\"/></a>"
      ]
    },
    {
      "cell_type": "markdown",
      "source": [
        "pozitif negatif"
      ],
      "metadata": {
        "id": "whYGe1-FSpc0"
      }
    },
    {
      "cell_type": "code",
      "execution_count": null,
      "metadata": {
        "id": "yxXPGP3SF032"
      },
      "outputs": [],
      "source": [
        "sayi = input('Sayı :')\n",
        "if(int(sayi)<0):\n",
        "      print(\"Sayı Negatif\")\n",
        "elif(int(sayi)>0):\n",
        "      print(\"Sayı Pozitif\")\n",
        "else:\n",
        "      print(\"Sayı Sıfır\")\n",
        "\n",
        "\n"
      ]
    }
  ]
}