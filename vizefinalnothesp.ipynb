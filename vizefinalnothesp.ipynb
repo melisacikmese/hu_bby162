{
  "nbformat": 4,
  "nbformat_minor": 0,
  "metadata": {
    "colab": {
      "provenance": [],
      "authorship_tag": "ABX9TyPoLe229uxn0DZoPfJ5LoOz",
      "include_colab_link": true
    },
    "kernelspec": {
      "name": "python3",
      "display_name": "Python 3"
    },
    "language_info": {
      "name": "python"
    }
  },
  "cells": [
    {
      "cell_type": "markdown",
      "metadata": {
        "id": "view-in-github",
        "colab_type": "text"
      },
      "source": [
        "<a href=\"https://colab.research.google.com/github/melisacikmese/hu_bby162/blob/main/vizefinalnothesp.ipynb\" target=\"_parent\"><img src=\"https://colab.research.google.com/assets/colab-badge.svg\" alt=\"Open In Colab\"/></a>"
      ]
    },
    {
      "cell_type": "code",
      "execution_count": null,
      "metadata": {
        "id": "GpZ748fo6C4Z"
      },
      "outputs": [],
      "source": [
        "vize = input(\"Vize Notunuz : \")\n",
        "final = input(\"Final Notunuz : \")\n",
        "ortalama=(float(vize)*0.3)+(float(final)*0.7)\n",
        "print(\"Ortalama :{0} \".format(ortalama))"
      ]
    }
  ]
}